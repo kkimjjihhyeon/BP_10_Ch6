{
  "nbformat": 4,
  "nbformat_minor": 0,
  "metadata": {
    "colab": {
      "provenance": [],
      "collapsed_sections": [],
      "authorship_tag": "ABX9TyN54EVP176B3baFtFbm0UN6",
      "include_colab_link": true
    },
    "kernelspec": {
      "name": "python3",
      "display_name": "Python 3"
    },
    "language_info": {
      "name": "python"
    }
  },
  "cells": [
    {
      "cell_type": "markdown",
      "metadata": {
        "id": "view-in-github",
        "colab_type": "text"
      },
      "source": [
        "<a href=\"https://colab.research.google.com/github/kkimjjihhyeon/BP_10_Ch6/blob/main/BP_Ex6_10_221107.ipynb\" target=\"_parent\"><img src=\"https://colab.research.google.com/assets/colab-badge.svg\" alt=\"Open In Colab\"/></a>"
      ]
    },
    {
      "cell_type": "code",
      "execution_count": null,
      "metadata": {
        "colab": {
          "base_uri": "https://localhost:8080/"
        },
        "id": "zy2JzUQe6SuJ",
        "outputId": "bca86cd5-94c6-4f3f-9d86-59da4718e5d0"
      },
      "outputs": [
        {
          "output_type": "stream",
          "name": "stdout",
          "text": [
            "2 4 6 8 10 12 14 16 18 20 22 24 26 28 30 32 34 36 38 40 42 44 46 48 50 52 54 56 58 60 62 64 66 68 70 72 74 76 78 80 82 84 86 88 90 92 94 96 98 100 "
          ]
        }
      ],
      "source": [
        "for i in range(2, 101):\n",
        "       if i%2==0 : \n",
        "           print(i,end = \" \")"
      ]
    },
    {
      "cell_type": "code",
      "source": [
        "year = 0\n",
        "balance = 1000\n",
        "\n",
        "while balance <= 2000 :\n",
        "    year = year + 1\n",
        "    interest = balance * 0.07\n",
        "    balance = balance + interest\n",
        "print(year, \"년 걸립니다.\")"
      ],
      "metadata": {
        "colab": {
          "base_uri": "https://localhost:8080/"
        },
        "id": "0Jgt6_Hi7_ke",
        "outputId": "f980931a-45ff-4620-df96-fe1524602477"
      },
      "execution_count": null,
      "outputs": [
        {
          "output_type": "stream",
          "name": "stdout",
          "text": [
            "11 년 걸립니다.\n"
          ]
        }
      ]
    },
    {
      "cell_type": "code",
      "source": [
        "n =1234\n",
        "sum = 0\n",
        "while n > 0 :\n",
        "    digit = n % 10\n",
        "    sum = sum + digit\n",
        "    n = n // 10\n",
        "print(sum)"
      ],
      "metadata": {
        "colab": {
          "base_uri": "https://localhost:8080/"
        },
        "id": "l_C5zh8r9oIx",
        "outputId": "1ff8001c-449f-4cfc-eead-3bf00184c77a"
      },
      "execution_count": null,
      "outputs": [
        {
          "output_type": "stream",
          "name": "stdout",
          "text": [
            "10\n"
          ]
        }
      ]
    },
    {
      "cell_type": "code",
      "source": [
        "import random\n",
        "x=random.randint(1,10)\n",
        "y=random.randint(1,10)\n",
        "z=x*y\n",
        "while True:\n",
        "  answer=int(input(str(x)+\"*\"+str(y)+\"는\"))\n",
        "  if z==answer:\n",
        "    print(\"맞았습니다.\")\n",
        "    break;"
      ],
      "metadata": {
        "colab": {
          "base_uri": "https://localhost:8080/"
        },
        "id": "5O_TOmL7_jsj",
        "outputId": "8ae0750b-0bd2-4dd9-91cb-4c3ecf64faf0"
      },
      "execution_count": null,
      "outputs": [
        {
          "output_type": "stream",
          "name": "stdout",
          "text": [
            "7*2는10\n",
            "7*2는12\n",
            "7*2는14\n",
            "맞았습니다.\n"
          ]
        }
      ]
    },
    {
      "cell_type": "code",
      "source": [
        "import random\n",
        "for i in range(3):\n",
        "  r1=random.randint(1,6)\n",
        "  r2=random.randint(1,6)\n",
        "  print(\"첫번째 주사위=\", \"두번째 주사위\", r2)"
      ],
      "metadata": {
        "colab": {
          "base_uri": "https://localhost:8080/"
        },
        "id": "iz2R9CVTBTIM",
        "outputId": "e3fd850a-91bf-4714-b429-79d6e8ad79b5"
      },
      "execution_count": null,
      "outputs": [
        {
          "output_type": "stream",
          "name": "stdout",
          "text": [
            "첫번째 주사위= 두번째 주사위 2\n",
            "첫번째 주사위= 두번째 주사위 6\n",
            "첫번째 주사위= 두번째 주사위 1\n"
          ]
        }
      ]
    },
    {
      "cell_type": "code",
      "source": [
        "sum=0\n",
        "while True:\n",
        "  answer=int(input(\"정수를 입력하시오:\"))\n",
        "  if answer !=0:\n",
        "    sum=sum+answer\n",
        "  else:\n",
        "    print(\"합은\",sum,\"입니다.\")\n",
        "    break;"
      ],
      "metadata": {
        "colab": {
          "base_uri": "https://localhost:8080/"
        },
        "id": "IDC0vC34AyLt",
        "outputId": "7caa99e6-3b11-4a15-a9f1-67672ecc73c9"
      },
      "execution_count": null,
      "outputs": [
        {
          "output_type": "stream",
          "name": "stdout",
          "text": [
            "정수를 입력하시오:1\n",
            "정수를 입력하시오:2\n",
            "정수를 입력하시오:3\n",
            "정수를 입력하시오:0\n",
            "합은 6 입니다.\n"
          ]
        }
      ]
    },
    {
      "cell_type": "code",
      "source": [
        "import turtle\n",
        "t = turtle.Turtle()\n",
        "t.shape(\"turtle\")\n",
        "\n",
        "count = 0\n",
        "t.lt(30)\n",
        "for i in range(7):\n",
        "    t.fd(100); t.fd(-30); t.lt(60); t.fd(30); t.fd(-30);\n",
        "    t.rt(120); t.fd(30); t.fd(-30); t.lt(60); t.fd(-70); t.lt(60);"
      ],
      "metadata": {
        "id": "_zjObAWFDm0y"
      },
      "execution_count": null,
      "outputs": []
    },
    {
      "cell_type": "code",
      "source": [
        "import turtle\n",
        "t = turtle.Turtle()\n",
        "t.shape(\"turtle\")\n",
        "for i in range(10):\n",
        "    t.fd(-100)\n",
        "    t.lt(36)\n",
        "    t.fd(100)\n",
        "    t.lt(36)\n",
        "    t.fd(-100)\n",
        "    t.lt(36)\n",
        "    t.fd(100)\n",
        "    t.lt(36)\n",
        "    t.fd(-100)\n",
        "    t.rt(134)"
      ],
      "metadata": {
        "id": "Pkso4u6eDwV1"
      },
      "execution_count": null,
      "outputs": []
    },
    {
      "cell_type": "code",
      "source": [
        "import random\n",
        "import turtle\n",
        "t = turtle.Turtle()\n",
        "t.shape(\"turtle\")\n",
        "\n",
        "\n",
        "\n",
        "for i in range(10):\n",
        "    x = random.randint(1, 100)\n",
        "    y = random.randint(1, 100)\n",
        "    z = random.randint(-180, 180)\n",
        "\n",
        "    t.up()\n",
        "    t.goto(x, y)\n",
        "    t.down()\n",
        "    t.circle(z);"
      ],
      "metadata": {
        "id": "M2QP5XrZD6B0"
      },
      "execution_count": null,
      "outputs": []
    },
    {
      "cell_type": "code",
      "source": [
        "import turtle\n",
        "t = turtle.Turtle()\n",
        "t.shape(\"turtle\")\n",
        "\n",
        "count = 0\n",
        "\n",
        "while True:\n",
        "    t.fd(100); t.rt(90); t.fd(20); t.rt(90); t.fd(100); t.lt(90); t.fd(20);\n",
        "    t.lt(90);\n",
        "\n",
        "    count += 1\n",
        "\n",
        "    if(count == 7):\n",
        "        break;"
      ],
      "metadata": {
        "id": "JW459p0uD_2F"
      },
      "execution_count": null,
      "outputs": []
    },
    {
      "cell_type": "code",
      "source": [
        "import turtle\n",
        "\n",
        "t = turtle.Turtle()\n",
        "t.shape(\"turtle\")\n",
        "t.color(\"red\", \"yellow\")\n",
        "t.begin_fill()\n",
        "while True:\n",
        "    t.fd(200)\n",
        "    t.lt(170)\n",
        "    if abs(t.pos())< 1:\n",
        "        break\n",
        "t.end_fill()"
      ],
      "metadata": {
        "id": "UZxrPcG4EDd1"
      },
      "execution_count": null,
      "outputs": []
    },
    {
      "cell_type": "code",
      "source": [
        "import turtle\n",
        "import math\n",
        "\n",
        "t= turtle.Turtle()\n",
        "t.shape(\"turtle\")\n",
        "t.color(\"red\")\n",
        "\n",
        "for i in range(360):\n",
        "    sine=math.sin(math.pi*i/180)\n",
        "    print(sine)\n",
        "    t.goto(i,sine*100)"
      ],
      "metadata": {
        "id": "vuTRJV14EHHM"
      },
      "execution_count": null,
      "outputs": []
    }
  ]
}